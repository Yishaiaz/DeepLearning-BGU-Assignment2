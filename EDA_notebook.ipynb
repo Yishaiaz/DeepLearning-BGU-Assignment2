{
 "cells": [
  {
   "cell_type": "code",
   "execution_count": 1,
   "metadata": {
    "collapsed": true
   },
   "outputs": [],
   "source": [
    "import os\n",
    "import numpy as np\n",
    "import pandas as pd\n",
    "import matplotlib.pyplot as plt\n",
    "\n",
    "\n",
    "all_images_path = 'lfw2Data/lfw2'\n",
    "training_ds_path =  'lfw2Data/pairsDevTrain.txt'\n",
    "test_ds_path =  'lfw2Data/pairsDevTest.txt'\n",
    "main_directory_content = [os.sep.join([all_images_path, x]) for x in list(filter(lambda x: not str(x).lower().find('ds_store')!=-1, os.listdir(all_images_path)))]"
   ]
  },
  {
   "cell_type": "code",
   "execution_count": 2,
   "outputs": [],
   "source": [
    "# get info on images distributions\n",
    "def plot_distribution_num_of_images():\n",
    "    def get_num_of_images_for_person() -> dict:\n",
    "        names_to_num_of_images = {}\n",
    "        for person_dir in main_directory_content:\n",
    "            names_to_num_of_images[person_dir] = len(os.listdir(person_dir))\n",
    "        return names_to_num_of_images\n",
    "    fig, ax = plt.subplots()\n",
    "    names_to_num_of_images_dict = get_num_of_images_for_person()\n",
    "    num_of_images = np.array(list(names_to_num_of_images_dict.values()))\n",
    "    # min max normalization\n",
    "    # norm_num_of_images = (num_of_images - num_of_images.min())/(num_of_images.max() - num_of_images.min())\n",
    "    ax.hist(num_of_images)\n",
    "    # ax.set_xticks(range(0, 1000, 100))\n",
    "    ax.set_title('total number of images {}\\n total number of people {}'.format(sum(names_to_num_of_images_dict.values()), len(names_to_num_of_images_dict.keys())))\n",
    "    return names_to_num_of_images_dict"
   ],
   "metadata": {
    "collapsed": false,
    "pycharm": {
     "name": "#%%\n"
    }
   }
  },
  {
   "cell_type": "code",
   "execution_count": 5,
   "outputs": [
    {
     "data": {
      "text/plain": "<Figure size 432x288 with 1 Axes>",
      "image/png": "[encoded data removed]"
     },
     "metadata": {
      "needs_background": "light"
     },
     "output_type": "display_data"
    }
   ],
   "source": [
    "images_num_dict = plot_distribution_num_of_images()\n",
    "plt.tight_layout()\n",
    "plt.show()\n",
    "min_num_of_im, max_num_of_im = min(images_num_dict.values()), max(images_num_dict.values())\n",
    "max_n = 0\n",
    "max_key = ''\n",
    "for key, val in images_num_dict.items():\n",
    "    if val > max_n:\n",
    "        max_key = key\n",
    "        max_n = val"
   ],
   "metadata": {
    "collapsed": false,
    "pycharm": {
     "name": "#%%\n"
    }
   }
  },
  {
   "cell_type": "code",
   "execution_count": 7,
   "outputs": [],
   "source": [
    "# get info on database distribution\n",
    "def plot_distribution_of_appearances(with_match: bool = False):\n",
    "    def get_num_of_appearances(on_train: bool = True):\n",
    "        num_of_appearances, matching_appearances, non_matching_appearances = {}\n",
    "        path_to_inspect = training_ds_path if on_train else test_ds_path\n",
    "        with open(path_to_inspect, 'r') as file_to_inspect:\n",
    "            # skip first line\n",
    "            line = file_to_inspect.readline()\n",
    "            line = file_to_inspect.readline()\n",
    "            while line != '' and line is not None:\n",
    "                spl_line = line.split('\\t')\n",
    "                # matching pair\n",
    "                if len(spl_line) == 3:\n",
    "                    name = spl_line[0]\n",
    "                    matching_appearances[name] = matching_appearances.get(name, 0) + 1\n",
    "                elif len(spl_line) == 4:\n",
    "                    name = spl_line[0]\n",
    "                    non_matching_appearances[name] = non_matching_appearances.get(name, 0) + 1\n",
    "                    num_of_appearances[name] = num_of_appearances.get(name, 0) + 1\n",
    "                    name = spl_line[2]\n",
    "                    non_matching_appearances[name] = non_matching_appearances.get(name, 0) + 1\n",
    "                line = file_to_inspect.readline()\n",
    "                num_of_appearances[name] = num_of_appearances.get(name, 0) + 1\n",
    "        return num_of_appearances, matching_appearances, non_matching_appearances\n",
    "\n",
    "    fig, ax = plt.subplots(2)\n",
    "    train_dict, train_matching_appearances, train_non_matching_appearances = get_num_of_appearances()\n",
    "    dict_vals = list(train_dict.values())\n",
    "    ax[0].hist(dict_vals)\n",
    "    ax[0].set_title('training_ds appearance distribtion')\n",
    "    test_dict, test_matching_appearances, test_non_matching_appearances = get_num_of_appearances(on_train=False)\n",
    "    dict_vals = list(test_dict.values())\n",
    "    ax[1].hist(dict_vals)\n",
    "    ax[1].set_title('test_ds appearance distribtion')\n",
    "    if not with_match:\n",
    "        return train_dict, test_dict\n",
    "    return train_dict, test_dict, \\\n",
    "           train_matching_appearances,\\\n",
    "           train_non_matching_appearances,\\\n",
    "           test_matching_appearances,\\\n",
    "           test_non_matching_appearances"
   ],
   "metadata": {
    "collapsed": false,
    "pycharm": {
     "name": "#%%\n"
    }
   }
  },
  {
   "cell_type": "code",
   "execution_count": null,
   "outputs": [],
   "source": [
    "train_appearance_dict, test_appearance_dict = plot_distribution_of_appearances()\n",
    "\n",
    "train_max_n = 0\n",
    "train_max_key = ''\n",
    "for key, val in train_appearance_dict.items():\n",
    "    if val > train_max_n:\n",
    "        train_max_key = key\n",
    "        train_max_n = val\n",
    "\n",
    "test_max_n = 0\n",
    "test_max_key = ''\n",
    "for key, val in test_appearance_dict.items():\n",
    "    if val > test_max_n:\n",
    "        test_max_key = key\n",
    "        test_max_n = val\n",
    "plt.tight_layout()\n",
    "plt.show()"
   ],
   "metadata": {
    "collapsed": false,
    "pycharm": {
     "name": "#%%\n"
    }
   }
  },
  {
   "cell_type": "code",
   "execution_count": 8,
   "outputs": [
    {
     "ename": "ValueError",
     "evalue": "not enough values to unpack (expected 3, got 0)",
     "output_type": "error",
     "traceback": [
      "\u001B[0;31m---------------------------------------------------------------------------\u001B[0m",
      "\u001B[0;31mValueError\u001B[0m                                Traceback (most recent call last)",
      "\u001B[0;32m<ipython-input-8-aa059fbea022>\u001B[0m in \u001B[0;36m<module>\u001B[0;34m\u001B[0m\n\u001B[1;32m      1\u001B[0m \u001B[0;31m# pydev_debug_cell\u001B[0m\u001B[0;34m\u001B[0m\u001B[0;34m\u001B[0m\u001B[0;34m\u001B[0m\u001B[0m\n\u001B[1;32m      2\u001B[0m \u001B[0;31m# matching vs Non matching ratio for each person\u001B[0m\u001B[0;34m\u001B[0m\u001B[0;34m\u001B[0m\u001B[0;34m\u001B[0m\u001B[0m\n\u001B[0;32m----> 3\u001B[0;31m \u001B[0mtrain_dict\u001B[0m\u001B[0;34m,\u001B[0m \u001B[0mtest_dict\u001B[0m\u001B[0;34m,\u001B[0m \u001B[0mtrain_matching_appearances\u001B[0m\u001B[0;34m,\u001B[0m\u001B[0mtrain_non_matching_appearances\u001B[0m\u001B[0;34m,\u001B[0m\u001B[0mtest_matching_appearances\u001B[0m\u001B[0;34m,\u001B[0m\u001B[0mtest_non_matching_appearances\u001B[0m \u001B[0;34m=\u001B[0m \u001B[0mplot_distribution_of_appearances\u001B[0m\u001B[0;34m(\u001B[0m\u001B[0mwith_match\u001B[0m\u001B[0;34m=\u001B[0m\u001B[0;32mTrue\u001B[0m\u001B[0;34m)\u001B[0m\u001B[0;34m\u001B[0m\u001B[0;34m\u001B[0m\u001B[0m\n\u001B[0m",
      "\u001B[0;32m<ipython-input-7-476f41f4d083>\u001B[0m in \u001B[0;36mplot_distribution_of_appearances\u001B[0;34m(with_match)\u001B[0m\n\u001B[1;32m     26\u001B[0m \u001B[0;34m\u001B[0m\u001B[0m\n\u001B[1;32m     27\u001B[0m     \u001B[0mfig\u001B[0m\u001B[0;34m,\u001B[0m \u001B[0max\u001B[0m \u001B[0;34m=\u001B[0m \u001B[0mplt\u001B[0m\u001B[0;34m.\u001B[0m\u001B[0msubplots\u001B[0m\u001B[0;34m(\u001B[0m\u001B[0;36m2\u001B[0m\u001B[0;34m)\u001B[0m\u001B[0;34m\u001B[0m\u001B[0;34m\u001B[0m\u001B[0m\n\u001B[0;32m---> 28\u001B[0;31m     \u001B[0mtrain_dict\u001B[0m\u001B[0;34m,\u001B[0m \u001B[0mtrain_matching_appearances\u001B[0m\u001B[0;34m,\u001B[0m \u001B[0mtrain_non_matching_appearances\u001B[0m \u001B[0;34m=\u001B[0m \u001B[0mget_num_of_appearances\u001B[0m\u001B[0;34m(\u001B[0m\u001B[0;34m)\u001B[0m\u001B[0;34m\u001B[0m\u001B[0;34m\u001B[0m\u001B[0m\n\u001B[0m\u001B[1;32m     29\u001B[0m     \u001B[0mdict_vals\u001B[0m \u001B[0;34m=\u001B[0m \u001B[0mlist\u001B[0m\u001B[0;34m(\u001B[0m\u001B[0mtrain_dict\u001B[0m\u001B[0;34m.\u001B[0m\u001B[0mvalues\u001B[0m\u001B[0;34m(\u001B[0m\u001B[0;34m)\u001B[0m\u001B[0;34m)\u001B[0m\u001B[0;34m\u001B[0m\u001B[0;34m\u001B[0m\u001B[0m\n\u001B[1;32m     30\u001B[0m     \u001B[0max\u001B[0m\u001B[0;34m[\u001B[0m\u001B[0;36m0\u001B[0m\u001B[0;34m]\u001B[0m\u001B[0;34m.\u001B[0m\u001B[0mhist\u001B[0m\u001B[0;34m(\u001B[0m\u001B[0mdict_vals\u001B[0m\u001B[0;34m)\u001B[0m\u001B[0;34m\u001B[0m\u001B[0;34m\u001B[0m\u001B[0m\n",
      "\u001B[0;32m<ipython-input-7-476f41f4d083>\u001B[0m in \u001B[0;36mget_num_of_appearances\u001B[0;34m(on_train)\u001B[0m\n\u001B[1;32m      3\u001B[0m \u001B[0;32mdef\u001B[0m \u001B[0mplot_distribution_of_appearances\u001B[0m\u001B[0;34m(\u001B[0m\u001B[0mwith_match\u001B[0m\u001B[0;34m:\u001B[0m \u001B[0mbool\u001B[0m \u001B[0;34m=\u001B[0m \u001B[0;32mFalse\u001B[0m\u001B[0;34m)\u001B[0m\u001B[0;34m:\u001B[0m\u001B[0;34m\u001B[0m\u001B[0;34m\u001B[0m\u001B[0m\n\u001B[1;32m      4\u001B[0m     \u001B[0;32mdef\u001B[0m \u001B[0mget_num_of_appearances\u001B[0m\u001B[0;34m(\u001B[0m\u001B[0mon_train\u001B[0m\u001B[0;34m:\u001B[0m \u001B[0mbool\u001B[0m \u001B[0;34m=\u001B[0m \u001B[0;32mTrue\u001B[0m\u001B[0;34m)\u001B[0m\u001B[0;34m:\u001B[0m\u001B[0;34m\u001B[0m\u001B[0;34m\u001B[0m\u001B[0m\n\u001B[0;32m----> 5\u001B[0;31m         \u001B[0mnum_of_appearances\u001B[0m\u001B[0;34m,\u001B[0m \u001B[0mmatching_appearances\u001B[0m\u001B[0;34m,\u001B[0m \u001B[0mnon_matching_appearances\u001B[0m \u001B[0;34m=\u001B[0m \u001B[0;34m{\u001B[0m\u001B[0;34m}\u001B[0m\u001B[0;34m\u001B[0m\u001B[0;34m\u001B[0m\u001B[0m\n\u001B[0m\u001B[1;32m      6\u001B[0m         \u001B[0mpath_to_inspect\u001B[0m \u001B[0;34m=\u001B[0m \u001B[0mtraining_ds_path\u001B[0m \u001B[0;32mif\u001B[0m \u001B[0mon_train\u001B[0m \u001B[0;32melse\u001B[0m \u001B[0mtest_ds_path\u001B[0m\u001B[0;34m\u001B[0m\u001B[0;34m\u001B[0m\u001B[0m\n\u001B[1;32m      7\u001B[0m         \u001B[0;32mwith\u001B[0m \u001B[0mopen\u001B[0m\u001B[0;34m(\u001B[0m\u001B[0mpath_to_inspect\u001B[0m\u001B[0;34m,\u001B[0m \u001B[0;34m'r'\u001B[0m\u001B[0;34m)\u001B[0m \u001B[0;32mas\u001B[0m \u001B[0mfile_to_inspect\u001B[0m\u001B[0;34m:\u001B[0m\u001B[0;34m\u001B[0m\u001B[0;34m\u001B[0m\u001B[0m\n",
      "\u001B[0;31mValueError\u001B[0m: not enough values to unpack (expected 3, got 0)"
     ]
    },
    {
     "data": {
      "text/plain": "<Figure size 432x288 with 2 Axes>",
      "image/png": "[encoded data removed]"
     },
     "metadata": {
      "needs_background": "light"
     },
     "output_type": "display_data"
    }
   ],
   "source": [
    "# matching vs Non matching ratio for each person\n",
    "train_dict, test_dict, train_matching_appearances,train_non_matching_appearances,test_matching_appearances,test_non_matching_appearances = plot_distribution_of_appearances(with_match=True)\n",
    "# todo:\n",
    "# calc which appear in matching but not in non matching and vice versa"
   ],
   "metadata": {
    "collapsed": false,
    "pycharm": {
     "name": "#%%\n"
    }
   }
  }
 ],
 "metadata": {
  "kernelspec": {
   "display_name": "Python 3",
   "language": "python",
   "name": "python3"
  },
  "language_info": {
   "codemirror_mode": {
    "name": "ipython",
    "version": 2
   },
   "file_extension": ".py",
   "mimetype": "text/x-python",
   "name": "python",
   "nbconvert_exporter": "python",
   "pygments_lexer": "ipython2",
   "version": "2.7.6"
  }
 },
 "nbformat": 4,
 "nbformat_minor": 0
}