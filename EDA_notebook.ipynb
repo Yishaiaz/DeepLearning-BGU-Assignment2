{
 "cells": [
  {
   "cell_type": "code",
   "execution_count": 4,
   "metadata": {
    "collapsed": true
   },
   "outputs": [],
   "source": [
    "import os\n",
    "import numpy as np\n",
    "import pandas as pd\n",
    "import matplotlib.pyplot as plt\n",
    "\n",
    "\n",
    "all_images_path = 'lfw2Data/lfw2'\n",
    "training_ds_path =  'lfw2Data/pairsDevTrain.txt'\n",
    "test_ds_path =  'lfw2Data/pairsDevTest.txt'\n",
    "main_directory_content = [os.sep.join([all_images_path, x]) for x in list(filter(lambda x: not str(x).lower().find('ds_store')!=-1, os.listdir(all_images_path)))]"
   ]
  },
  {
   "cell_type": "code",
   "execution_count": 33,
   "outputs": [],
   "source": [
    "# get info on image files distributions\n",
    "def plot_distribution_num_of_images():\n",
    "    def get_num_of_images_for_person() -> dict:\n",
    "        names_to_num_of_images = {}\n",
    "        for person_dir in main_directory_content:\n",
    "            names_to_num_of_images[person_dir] = len(os.listdir(person_dir))\n",
    "        return names_to_num_of_images\n",
    "    fig, ax = plt.subplots()\n",
    "    names_to_num_of_images_dict = get_num_of_images_for_person()\n",
    "    num_of_images = np.array(list(names_to_num_of_images_dict.values()))\n",
    "    # min max normalization\n",
    "    # norm_num_of_images = (num_of_images - num_of_images.min())/(num_of_images.max() - num_of_images.min())\n",
    "    ax.hist(num_of_images)\n",
    "    # ax.set_xticks(range(0, 1000, 100))\n",
    "    print('Total number of image files {}\\nTotal number of people {}'.format(sum(names_to_num_of_images_dict.values()), len(names_to_num_of_images_dict.keys())))\n",
    "    ax.set_title(\"Distribution of peoples' amount of image files\")\n",
    "    return names_to_num_of_images_dict"
   ],
   "metadata": {
    "collapsed": false,
    "pycharm": {
     "name": "#%%\n"
    }
   }
  },
  {
   "cell_type": "code",
   "execution_count": 34,
   "outputs": [
    {
     "name": "stdout",
     "output_type": "stream",
     "text": [
      "Total number of image files 13233\n",
      "Total number of people 5749\n",
      "Person with most image files: George_W_Bush, with 530 image files\n"
     ]
    },
    {
     "data": {
      "text/plain": "<Figure size 432x288 with 1 Axes>",
      "image/png": "[encoded data removed]"
     },
     "metadata": {
      "needs_background": "light"
     },
     "output_type": "display_data"
    }
   ],
   "source": [
    "images_num_dict = plot_distribution_num_of_images()\n",
    "plt.tight_layout()\n",
    "plt.show()\n",
    "min_num_of_im, max_num_of_im = min(images_num_dict.values()), max(images_num_dict.values())\n",
    "max_n = 0\n",
    "max_key = ''\n",
    "for key, val in images_num_dict.items():\n",
    "    if val > max_n:\n",
    "        max_key = key\n",
    "        max_n = val\n",
    "print(\"Person with most image files: {}, with {} image files\".format(max_key.split(os.sep)[-1], max_n))"
   ],
   "metadata": {
    "collapsed": false,
    "pycharm": {
     "name": "#%%\n"
    }
   }
  },
  {
   "cell_type": "code",
   "execution_count": 35,
   "outputs": [],
   "source": [
    "# get info on database distribution\n",
    "def plot_distribution_of_appearances(with_match: bool = False):\n",
    "    def get_num_of_appearances(on_train: bool = True):\n",
    "        num_of_appearances, matching_appearances, non_matching_appearances = {}, {}, {}\n",
    "        path_to_inspect = training_ds_path if on_train else test_ds_path\n",
    "        with open(path_to_inspect, 'r') as file_to_inspect:\n",
    "            # skip first line\n",
    "            line = file_to_inspect.readline()\n",
    "            line = file_to_inspect.readline()\n",
    "            while line != '' and line is not None:\n",
    "                spl_line = line.split('\\t')\n",
    "                # matching pair\n",
    "                if len(spl_line) == 3:\n",
    "                    name = spl_line[0]\n",
    "                    matching_appearances[name] = matching_appearances.get(name, 0) + 1\n",
    "                elif len(spl_line) == 4:\n",
    "                    name = spl_line[0]\n",
    "                    non_matching_appearances[name] = non_matching_appearances.get(name, 0) + 1\n",
    "                    num_of_appearances[name] = num_of_appearances.get(name, 0) + 1\n",
    "                    name = spl_line[2]\n",
    "                    non_matching_appearances[name] = non_matching_appearances.get(name, 0) + 1\n",
    "                line = file_to_inspect.readline()\n",
    "                num_of_appearances[name] = num_of_appearances.get(name, 0) + 1\n",
    "        return num_of_appearances, matching_appearances, non_matching_appearances\n",
    "\n",
    "    fig, ax = plt.subplots(2)\n",
    "    train_dict, train_matching_appearances, train_non_matching_appearances = get_num_of_appearances()\n",
    "    dict_vals = list(train_dict.values())\n",
    "    ax[0].hist(dict_vals)\n",
    "    ax[0].set_title('training_ds appearance distribution')\n",
    "    test_dict, test_matching_appearances, test_non_matching_appearances = get_num_of_appearances(on_train=False)\n",
    "    dict_vals = list(test_dict.values())\n",
    "    ax[1].hist(dict_vals)\n",
    "    ax[1].set_title('test_ds appearance distribution')\n",
    "    if not with_match:\n",
    "        return train_dict, test_dict\n",
    "    return train_dict, test_dict, \\\n",
    "           train_matching_appearances,\\\n",
    "           train_non_matching_appearances,\\\n",
    "           test_matching_appearances,\\\n",
    "           test_non_matching_appearances"
   ],
   "metadata": {
    "collapsed": false,
    "pycharm": {
     "name": "#%%\n"
    }
   }
  },
  {
   "cell_type": "code",
   "execution_count": 36,
   "outputs": [
    {
     "name": "stdout",
     "output_type": "stream",
     "text": [
      "Person appearing the most in train:Alec_Baldwin with 6 images\n",
      "Person appearing the most in test:Tang_Jiaxuan with 6 images\n"
     ]
    },
    {
     "data": {
      "text/plain": "<Figure size 432x288 with 2 Axes>",
      "image/png": "[encoded data removed]"
     },
     "metadata": {
      "needs_background": "light"
     },
     "output_type": "display_data"
    }
   ],
   "source": [
    "train_appearance_dict, test_appearance_dict = plot_distribution_of_appearances()\n",
    "\n",
    "train_max_n = 0\n",
    "train_max_key = ''\n",
    "for key, val in train_appearance_dict.items():\n",
    "    if val > train_max_n:\n",
    "        train_max_key = key\n",
    "        train_max_n = val\n",
    "print(\"Person appearing the most in train:{} with {} images\".format(train_max_key, train_max_n))\n",
    "test_max_n = 0\n",
    "test_max_key = ''\n",
    "for key, val in test_appearance_dict.items():\n",
    "    if val > test_max_n:\n",
    "        test_max_key = key\n",
    "        test_max_n = val\n",
    "\n",
    "print(\"Person appearing the most in test:{} with {} images\".format(test_max_key, test_max_n))\n",
    "plt.tight_layout()\n",
    "plt.show()"
   ],
   "metadata": {
    "collapsed": false,
    "pycharm": {
     "name": "#%%\n"
    }
   }
  },
  {
   "cell_type": "code",
   "execution_count": 16,
   "outputs": [
    {
     "data": {
      "text/plain": "<Figure size 432x288 with 2 Axes>",
      "image/png": "[encoded data removed]"
     },
     "metadata": {
      "needs_background": "light"
     },
     "output_type": "display_data"
    }
   ],
   "source": [
    "# matching vs Non matching ratio for each person\n",
    "train_dict, test_dict, train_matching_appearances, train_non_matching_appearances, test_matching_appearances, test_non_matching_appearances = plot_distribution_of_appearances(with_match=True)\n",
    "\n",
    "# todo:\n",
    "# calc which appear in matching but not in non matching and vice versa"
   ],
   "metadata": {
    "collapsed": false,
    "pycharm": {
     "name": "#%%\n"
    }
   }
  },
  {
   "cell_type": "code",
   "execution_count": 19,
   "outputs": [
    {
     "name": "stdout",
     "output_type": "stream",
     "text": [
      "#########TRAINING#########\n",
      "Number of unique people in - \n",
      "matching: 788\n",
      "non-matching: 1695\n",
      "set of combined: 2132\n",
      "bag of combined: 2483\n",
      "#########TESTING#########\n",
      "Number of unique people in - \n",
      "matching: 353\n",
      "non-matching: 748\n",
      "set of combined: 963\n",
      "bag of combined: 1101\n"
     ]
    }
   ],
   "source": [
    "print('#########TRAINING#########')\n",
    "set_of_combined_names = set()\n",
    "set_of_combined_names.update(list(train_matching_appearances.keys()))\n",
    "set_of_combined_names.update(list(train_non_matching_appearances.keys()))\n",
    "print('Number of unique people in - \\nmatching: {}\\nnon-matching: {}\\nset of combined: {}\\nbag of combined: {}'.format(len(train_matching_appearances.keys()), len(train_non_matching_appearances.keys()), len(set_of_combined_names), (len(train_matching_appearances.keys()) + len(train_non_matching_appearances.keys()))))\n",
    "\n",
    "print('#########TESTING#########')\n",
    "set_of_combined_names = set()\n",
    "set_of_combined_names.update(list(test_matching_appearances.keys()))\n",
    "set_of_combined_names.update(list(test_non_matching_appearances.keys()))\n",
    "print('Number of unique people in - \\nmatching: {}\\nnon-matching: {}\\nset of combined: {}\\nbag of combined: {}'.format(len(test_matching_appearances.keys()), len(test_non_matching_appearances.keys()), len(set_of_combined_names), (len(test_matching_appearances.keys()) + len(test_non_matching_appearances.keys()))))"
   ],
   "metadata": {
    "collapsed": false,
    "pycharm": {
     "name": "#%%\n"
    }
   }
  },
  {
   "cell_type": "code",
   "execution_count": 37,
   "outputs": [
    {
     "name": "stdout",
     "output_type": "stream",
     "text": [
      "Min ratio: 0.0\n",
      "Max Ratio:3.0\n",
      "amount of appearing in training matching only 437/788\n",
      "##################\n",
      "Min ratio: 0.0\n",
      "Max Ratio:4.0\n",
      "amount of appearing in training non matching only 1781/2132\n"
     ]
    },
    {
     "data": {
      "text/plain": "<Figure size 432x288 with 1 Axes>",
      "image/png": "[encoded data removed]"
     },
     "metadata": {
      "needs_background": "light"
     },
     "output_type": "display_data"
    },
    {
     "data": {
      "text/plain": "<Figure size 432x288 with 1 Axes>",
      "image/png": "[encoded data removed]"
     },
     "metadata": {
      "needs_background": "light"
     },
     "output_type": "display_data"
    }
   ],
   "source": [
    "type_inquiry = 'training'\n",
    "ratios = {}\n",
    "# Training set investigation\n",
    "for key, val in train_matching_appearances.items():\n",
    "    ratios[key] = train_non_matching_appearances.get(key, 0) / val\n",
    "\n",
    "ratios_np = np.array(list(ratios.values()))\n",
    "fig, ax = plt.subplots()\n",
    "ax.hist(ratios_np)\n",
    "ax.set_title('{} ratio non-matching/matching appearances'.format(type_inquiry))\n",
    "print(\"Min ratio: {}\\nMax Ratio:{}\".format(ratios_np.min(), ratios_np.max()))\n",
    "print(\"amount of appearing in {} matching only {}/{}\".format(type_inquiry, len(ratios_np[ratios_np==0]), len(ratios_np)))\n",
    "for key, val in train_non_matching_appearances.items():\n",
    "    ratios[key] = train_matching_appearances.get(key, 0) / val\n",
    "print('##################')\n",
    "ratios_np = np.array(list(ratios.values()))\n",
    "fig, ax = plt.subplots()\n",
    "ax.hist(ratios_np)\n",
    "ax.set_title('ratio matching/non-matching appearances')\n",
    "print(\"Min ratio: {}\\nMax Ratio:{}\".format(ratios_np.min(), ratios_np.max()))\n",
    "plt.show()\n",
    "print(\"amount of appearing in {} non matching only {}/{}\".format(type_inquiry, len(ratios_np[ratios_np==0]), len(ratios_np)))"
   ],
   "metadata": {
    "collapsed": false,
    "pycharm": {
     "name": "#%%\n"
    }
   }
  },
  {
   "cell_type": "code",
   "execution_count": 39,
   "outputs": [
    {
     "name": "stdout",
     "output_type": "stream",
     "text": [
      "Min ratio: 0.0\n",
      "Max Ratio:4.0\n",
      "amount of appearing in testing matching only 215/353\n",
      "##################\n",
      "Min ratio: 0.0\n",
      "Max Ratio:4.0\n",
      "amount of appearing in testing non matching only 825/963\n"
     ]
    },
    {
     "data": {
      "text/plain": "<Figure size 432x288 with 1 Axes>",
      "image/png": "[encoded data removed]"
     },
     "metadata": {
      "needs_background": "light"
     },
     "output_type": "display_data"
    },
    {
     "data": {
      "text/plain": "<Figure size 432x288 with 1 Axes>",
      "image/png": "[encoded data removed]"
     },
     "metadata": {
      "needs_background": "light"
     },
     "output_type": "display_data"
    }
   ],
   "source": [
    "#########TESTING#########\n",
    "type_inquiry = 'testing'\n",
    "ratios = {}\n",
    "# Training set investigation\n",
    "for key, val in test_matching_appearances.items():\n",
    "    ratios[key] = test_non_matching_appearances.get(key, 0) / val\n",
    "\n",
    "ratios_np = np.array(list(ratios.values()))\n",
    "fig, ax = plt.subplots()\n",
    "ax.hist(ratios_np)\n",
    "ax.set_title('{} ratio non-matching/matching appearances'.format(type_inquiry))\n",
    "print(\"Min ratio: {}\\nMax Ratio:{}\".format(ratios_np.min(), ratios_np.max()))\n",
    "print(\"amount of appearing in {} matching only {}/{}\".format(type_inquiry, len(ratios_np[ratios_np==0]), len(ratios_np)))\n",
    "for key, val in test_non_matching_appearances.items():\n",
    "    ratios[key] = test_matching_appearances.get(key, 0) / val\n",
    "print('##################')\n",
    "ratios_np = np.array(list(ratios.values()))\n",
    "fig, ax = plt.subplots()\n",
    "ax.hist(ratios_np)\n",
    "ax.set_title('ratio matching/non-matching appearances')\n",
    "print(\"Min ratio: {}\\nMax Ratio:{}\".format(ratios_np.min(), ratios_np.max()))\n",
    "plt.show()\n",
    "print(\"amount of appearing in {} non matching only {}/{}\".format(type_inquiry, len(ratios_np[ratios_np==0]), len(ratios_np)))"
   ],
   "metadata": {
    "collapsed": false,
    "pycharm": {
     "name": "#%%\n"
    }
   }
  },
  {
   "cell_type": "markdown",
   "source": [
    "TODO:"
   ],
   "metadata": {
    "collapsed": false,
    "pycharm": {
     "name": "#%% md\n"
    }
   }
  },
  {
   "cell_type": "code",
   "source": [
    "def get_pairs_in_dataset(on_train: bool = True):\n",
    "    matching_names = []\n",
    "    non_matching_pairs = []\n",
    "    all_names = set()\n",
    "    path_to_inspect = training_ds_path if on_train else test_ds_path\n",
    "    with open(path_to_inspect, 'r') as file_to_inspect:\n",
    "        # skip first line\n",
    "        line = file_to_inspect.readline()\n",
    "        line = file_to_inspect.readline()\n",
    "        while line != '' and line is not None:\n",
    "            spl_line = line.split('\\t')\n",
    "            # matching pair\n",
    "            if len(spl_line) == 3:\n",
    "                matching_names.append(spl_line[0])\n",
    "                all_names.update([spl_line[0]])\n",
    "            # non matching pair\n",
    "            elif len(spl_line) == 4:\n",
    "                non_matching_pairs.append((spl_line[0], spl_line[2]))\n",
    "                all_names.update([spl_line[0], spl_line[2]])\n",
    "\n",
    "            line = file_to_inspect.readline()\n",
    "\n",
    "    return matching_names, non_matching_pairs, all_names\n",
    "\n",
    "def cust_comp(x: tuple, y: tuple):\n",
    "    return (x[0]==y[0] and x[1]==y[1]) or (x[1]==y[0] and y[1]==x[0])\n",
    "\n",
    "def find_equal_pairs(train_pairs, test_pairs):\n",
    "    ctr = 0\n",
    "    for i in range(len(train_pairs)):\n",
    "        for j in range(len(test_pairs)):\n",
    "            ctr += 1 if cust_comp(train_pairs[i], test_pairs[j]) else 0\n",
    "    return ctr"
   ],
   "metadata": {
    "collapsed": false,
    "pycharm": {
     "name": "#%%\n"
    }
   },
   "execution_count": 49,
   "outputs": []
  },
  {
   "cell_type": "code",
   "execution_count": 50,
   "outputs": [],
   "source": [
    "train_matching_names, train_non_matching_pairs, train_all_names = get_pairs_in_dataset(True)\n",
    "test_matching_names, test_non_matching_pairs, test_all_names = get_pairs_in_dataset(False)"
   ],
   "metadata": {
    "collapsed": false,
    "pycharm": {
     "name": "#%%\n"
    }
   }
  },
  {
   "cell_type": "code",
   "execution_count": 54,
   "outputs": [
    {
     "name": "stdout",
     "output_type": "stream",
     "text": [
      "#Pairs in both train and test:\n",
      " 0/2132\n"
     ]
    }
   ],
   "source": [
    "# are there really no shared pairs between training and testing?\n",
    "ctr = find_equal_pairs(train_non_matching_pairs, test_non_matching_pairs)\n",
    "print('#Pairs in both train and test:\\n {}/{}'.format(ctr, max(len(train_all_names), len(test_all_names))))"
   ],
   "metadata": {
    "collapsed": false,
    "pycharm": {
     "name": "#%%\n"
    }
   }
  },
  {
   "cell_type": "code",
   "execution_count": 53,
   "outputs": [
    {
     "name": "stdout",
     "output_type": "stream",
     "text": [
      "#names appearing in both train and test:\n",
      " 0/2132\n"
     ]
    }
   ],
   "source": [
    "# names appearing in both train and test\n",
    "ctr = 0\n",
    "train_all_names_lst = list(train_all_names)\n",
    "test_all_names_lst = list(test_all_names)\n",
    "for i in range(len(train_all_names)):\n",
    "        for j in range(len(test_all_names)):\n",
    "            ctr += 1 if train_all_names_lst[i] == test_all_names_lst[j] else 0\n",
    "print('#Names in both train and test:\\n {}/{}'.format(ctr, max(len(train_all_names), len(test_all_names))))"
   ],
   "metadata": {
    "collapsed": false,
    "pycharm": {
     "name": "#%%\n"
    }
   }
  }
 ],
 "metadata": {
  "kernelspec": {
   "display_name": "Python 3",
   "language": "python",
   "name": "python3"
  },
  "language_info": {
   "codemirror_mode": {
    "name": "ipython",
    "version": 2
   },
   "file_extension": ".py",
   "mimetype": "text/x-python",
   "name": "python",
   "nbconvert_exporter": "python",
   "pygments_lexer": "ipython2",
   "version": "2.7.6"
  }
 },
 "nbformat": 4,
 "nbformat_minor": 0
}